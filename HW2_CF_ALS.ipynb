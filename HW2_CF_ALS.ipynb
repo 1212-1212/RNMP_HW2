{
 "cells": [
  {
   "cell_type": "code",
   "execution_count": 1,
   "id": "587fbb49",
   "metadata": {},
   "outputs": [],
   "source": [
    "from pyspark.ml.evaluation import RegressionEvaluator\n",
    "from pyspark.ml.recommendation import ALS\n",
    "from pyspark.sql import SparkSession, DataFrame\n",
    "from pyspark.sql.functions import lit\n",
    "from pyspark.ml.tuning import ParamGridBuilder, CrossValidator\n",
    "from pyspark.sql.functions import explode, col"
   ]
  },
  {
   "cell_type": "code",
   "execution_count": 2,
   "id": "d0d10e58",
   "metadata": {},
   "outputs": [],
   "source": [
    "path = 'E:\\\\181255_RNMP_HW2\\\\ml-100k\\\\'"
   ]
  },
  {
   "cell_type": "code",
   "execution_count": 3,
   "id": "6331b79c",
   "metadata": {},
   "outputs": [],
   "source": [
    "k = 5"
   ]
  },
  {
   "cell_type": "code",
   "execution_count": 14,
   "id": "98b367fb",
   "metadata": {},
   "outputs": [],
   "source": [
    "max_parellelism = 6"
   ]
  },
  {
   "cell_type": "markdown",
   "id": "62a3eec6",
   "metadata": {},
   "source": [
    "# Create Spark session and read datasets"
   ]
  },
  {
   "cell_type": "code",
   "execution_count": 5,
   "id": "e886906c",
   "metadata": {},
   "outputs": [],
   "source": [
    "spark = SparkSession.builder.master(\"local[*]\") \\\n",
    "        .appName('MovieLens100K-ALS-CF').getOrCreate()"
   ]
  },
  {
   "cell_type": "markdown",
   "id": "8b13e1da",
   "metadata": {},
   "source": [
    "## Ratings "
   ]
  },
  {
   "cell_type": "code",
   "execution_count": 6,
   "id": "41fa7f8e",
   "metadata": {},
   "outputs": [
    {
     "name": "stdout",
     "output_type": "stream",
     "text": [
      "+-------+--------+------+---------+\n",
      "|user_id|movie_id|rating|timestamp|\n",
      "+-------+--------+------+---------+\n",
      "|    196|     242|     3|881250949|\n",
      "|    186|     302|     3|891717742|\n",
      "|     22|     377|     1|878887116|\n",
      "|    244|      51|     2|880606923|\n",
      "|    166|     346|     1|886397596|\n",
      "|    298|     474|     4|884182806|\n",
      "|    115|     265|     2|881171488|\n",
      "|    253|     465|     5|891628467|\n",
      "|    305|     451|     3|886324817|\n",
      "|      6|      86|     3|883603013|\n",
      "|     62|     257|     2|879372434|\n",
      "|    286|    1014|     5|879781125|\n",
      "|    200|     222|     5|876042340|\n",
      "|    210|      40|     3|891035994|\n",
      "|    224|      29|     3|888104457|\n",
      "|    303|     785|     3|879485318|\n",
      "|    122|     387|     5|879270459|\n",
      "|    194|     274|     2|879539794|\n",
      "|    291|    1042|     4|874834944|\n",
      "|    234|    1184|     2|892079237|\n",
      "+-------+--------+------+---------+\n",
      "only showing top 20 rows\n",
      "\n"
     ]
    }
   ],
   "source": [
    "df = spark.read.csv(path+'data.csv', inferSchema=True, encoding='utf-8', header=True)\n",
    "df.withColumn('prediction', lit(None))\n",
    "df.cache()\n",
    "df.show()"
   ]
  },
  {
   "cell_type": "code",
   "execution_count": 7,
   "id": "9bef71b9",
   "metadata": {},
   "outputs": [
    {
     "name": "stdout",
     "output_type": "stream",
     "text": [
      "+-------+------------------+------------------+------------------+-----------------+\n",
      "|summary|           user_id|          movie_id|            rating|        timestamp|\n",
      "+-------+------------------+------------------+------------------+-----------------+\n",
      "|  count|            100000|            100000|            100000|           100000|\n",
      "|   mean|         462.48475|         425.53013|           3.52986|8.8352885148862E8|\n",
      "| stddev|266.61442012750905|330.79835632558473|1.1256735991443214|5343856.189502848|\n",
      "|    min|                 1|                 1|                 1|        874724710|\n",
      "|    max|               943|              1682|                 5|        893286638|\n",
      "+-------+------------------+------------------+------------------+-----------------+\n",
      "\n"
     ]
    }
   ],
   "source": [
    "df.describe().show()"
   ]
  },
  {
   "cell_type": "markdown",
   "id": "798f743c",
   "metadata": {},
   "source": [
    "##  Movies"
   ]
  },
  {
   "cell_type": "code",
   "execution_count": 21,
   "id": "724afa0a",
   "metadata": {},
   "outputs": [
    {
     "name": "stdout",
     "output_type": "stream",
     "text": [
      "+--------+------------------------------+------------+------------------------------+------------------------------+\n",
      "|movie_id|                         title|release_date|                      IMDb URL|                         genre|\n",
      "+--------+------------------------------+------------+------------------------------+------------------------------+\n",
      "|       1|              Toy Story (1995)| 01-Jan-1995|http://us.imdb.com/M/title-...| \"['Animation', \"\"Children's\"\"|\n",
      "|       2|              GoldenEye (1995)| 01-Jan-1995|http://us.imdb.com/M/title-...|['Action', 'Adventure', 'Th...|\n",
      "|       3|             Four Rooms (1995)| 01-Jan-1995|http://us.imdb.com/M/title-...|                  ['Thriller']|\n",
      "|       4|             Get Shorty (1995)| 01-Jan-1995|http://us.imdb.com/M/title-...| ['Action', 'Comedy', 'Drama']|\n",
      "|       5|                Copycat (1995)| 01-Jan-1995|http://us.imdb.com/M/title-...|['Crime', 'Drama', 'Thriller']|\n",
      "|       6|Shanghai Triad (Yao a yao y...| 01-Jan-1995|http://us.imdb.com/Title?Ya...|                     ['Drama']|\n",
      "|       7|         Twelve Monkeys (1995)| 01-Jan-1995|http://us.imdb.com/M/title-...|           ['Drama', 'Sci-Fi']|\n",
      "|       8|                   Babe (1995)| 01-Jan-1995|http://us.imdb.com/M/title-...|              \"[\"\"Children's\"\"|\n",
      "|       9|       Dead Man Walking (1995)| 01-Jan-1995|http://us.imdb.com/M/title-...|                     ['Drama']|\n",
      "|      10|            Richard III (1995)| 22-Jan-1996|http://us.imdb.com/M/title-...|              ['Drama', 'War']|\n",
      "|      11|          Seven (Se7en) (1995)| 01-Jan-1995|http://us.imdb.com/M/title-...|         ['Crime', 'Thriller']|\n",
      "|      12|    Usual Suspects, The (1995)| 14-Aug-1995|http://us.imdb.com/M/title-...|         ['Crime', 'Thriller']|\n",
      "|      13|       Mighty Aphrodite (1995)| 30-Oct-1995|http://us.imdb.com/M/title-...|                    ['Comedy']|\n",
      "|      14|            Postino, Il (1994)| 01-Jan-1994|http://us.imdb.com/M/title-...|          ['Drama', 'Romance']|\n",
      "|      15|     Mr. Holland's Opus (1995)| 29-Jan-1996|http://us.imdb.com/M/title-...|                     ['Drama']|\n",
      "|      16|French Twist (Gazon maudit)...| 01-Jan-1995|http://us.imdb.com/M/title-...|         ['Comedy', 'Romance']|\n",
      "|      17|    From Dusk Till Dawn (1996)| 05-Feb-1996|http://us.imdb.com/M/title-...|['Action', 'Comedy', 'Crime...|\n",
      "|      18|     White Balloon, The (1995)| 01-Jan-1995|http://us.imdb.com/M/title-...|                     ['Drama']|\n",
      "|      19|         Antonia's Line (1995)| 01-Jan-1995|http://us.imdb.com/M/title-...|                     ['Drama']|\n",
      "|      20|     Angels and Insects (1995)| 01-Jan-1995|http://us.imdb.com/M/title-...|          ['Drama', 'Romance']|\n",
      "+--------+------------------------------+------------+------------------------------+------------------------------+\n",
      "only showing top 20 rows\n",
      "\n"
     ]
    }
   ],
   "source": [
    "df_movies = spark.read.csv(path+'movies.csv', inferSchema=True, encoding='utf-8', header=True)\n",
    "df_movies.cache()\n",
    "df_movies.show(20, 30)"
   ]
  },
  {
   "cell_type": "markdown",
   "id": "7d8a2a44",
   "metadata": {},
   "source": [
    "# Users"
   ]
  },
  {
   "cell_type": "code",
   "execution_count": 22,
   "id": "97cc7650",
   "metadata": {},
   "outputs": [
    {
     "name": "stdout",
     "output_type": "stream",
     "text": [
      "+-------+---+------+-------------+--------+\n",
      "|user_id|age|gender|     interest|zip_code|\n",
      "+-------+---+------+-------------+--------+\n",
      "|      1| 24|     M|   technician|   85711|\n",
      "|      2| 53|     F|        other|   94043|\n",
      "|      3| 23|     M|       writer|   32067|\n",
      "|      4| 24|     M|   technician|   43537|\n",
      "|      5| 33|     F|        other|   15213|\n",
      "|      6| 42|     M|    executive|   98101|\n",
      "|      7| 57|     M|administrator|   91344|\n",
      "|      8| 36|     M|administrator|   05201|\n",
      "|      9| 29|     M|      student|   01002|\n",
      "|     10| 53|     M|       lawyer|   90703|\n",
      "|     11| 39|     F|        other|   30329|\n",
      "|     12| 28|     F|        other|   06405|\n",
      "|     13| 47|     M|     educator|   29206|\n",
      "|     14| 45|     M|    scientist|   55106|\n",
      "|     15| 49|     F|     educator|   97301|\n",
      "|     16| 21|     M|entertainment|   10309|\n",
      "|     17| 30|     M|   programmer|   06355|\n",
      "|     18| 35|     F|        other|   37212|\n",
      "|     19| 40|     M|    librarian|   02138|\n",
      "|     20| 42|     F|    homemaker|   95660|\n",
      "+-------+---+------+-------------+--------+\n",
      "only showing top 20 rows\n",
      "\n"
     ]
    }
   ],
   "source": [
    "df_users = spark.read.csv(path+'users.csv', inferSchema=True, encoding='utf-8', header=True)\n",
    "df_users.cache()\n",
    "df_users.show()"
   ]
  },
  {
   "cell_type": "markdown",
   "id": "df0a1d31",
   "metadata": {},
   "source": [
    "# Train/Test split"
   ]
  },
  {
   "cell_type": "code",
   "execution_count": 8,
   "id": "4472551a",
   "metadata": {},
   "outputs": [
    {
     "data": {
      "text/plain": [
       "DataFrame[user_id: int, movie_id: int, rating: int, timestamp: int]"
      ]
     },
     "execution_count": 8,
     "metadata": {},
     "output_type": "execute_result"
    }
   ],
   "source": [
    "(train, test) = df.randomSplit([0.8, 0.2], seed=11111)\n",
    "train.cache()\n",
    "test.cache()"
   ]
  },
  {
   "cell_type": "code",
   "execution_count": 9,
   "id": "b9e89038",
   "metadata": {},
   "outputs": [],
   "source": [
    "als = ALS(implicitPrefs=False,\n",
    "               coldStartStrategy=\"drop\",\n",
    "               nonnegative=True,\n",
    "               userCol=\"user_id\",\n",
    "               itemCol=\"movie_id\",\n",
    "               ratingCol=\"rating\")"
   ]
  },
  {
   "cell_type": "code",
   "execution_count": 10,
   "id": "585b9da9",
   "metadata": {},
   "outputs": [],
   "source": [
    "evaluator_r2 = RegressionEvaluator(metricName=\"r2\", labelCol=\"rating\", predictionCol=\"prediction\")\n",
    "evaluator_rmse = RegressionEvaluator(metricName=\"rmse\", labelCol=\"rating\", predictionCol=\"prediction\")"
   ]
  },
  {
   "cell_type": "markdown",
   "id": "d7a14d41",
   "metadata": {},
   "source": [
    "# Hyperparameter tuning"
   ]
  },
  {
   "cell_type": "markdown",
   "id": "bbaaf472",
   "metadata": {},
   "source": [
    "## Define parameter search space"
   ]
  },
  {
   "cell_type": "code",
   "execution_count": 11,
   "id": "59286d01",
   "metadata": {},
   "outputs": [],
   "source": [
    "ranks = [20, 50, 100]\n",
    "max_iterations = [5, 10, 20]\n",
    "reg_param = [0.01, 0.05, 0.1]"
   ]
  },
  {
   "cell_type": "code",
   "execution_count": 12,
   "id": "4e2c5c67",
   "metadata": {},
   "outputs": [],
   "source": [
    "param_grid = ParamGridBuilder() \\\n",
    "        .addGrid(als.rank, ranks) \\\n",
    "        .addGrid(als.maxIter, max_iterations) \\\n",
    "        .addGrid(als.regParam, reg_param) \\\n",
    "        .build()"
   ]
  },
  {
   "cell_type": "markdown",
   "id": "b21e62ac",
   "metadata": {},
   "source": [
    "## Estimate best parameters using K-fold cross validation"
   ]
  },
  {
   "cell_type": "code",
   "execution_count": 16,
   "id": "1056b29a",
   "metadata": {},
   "outputs": [
    {
     "name": "stdout",
     "output_type": "stream",
     "text": [
      "Number of models to be tested:  27\n"
     ]
    }
   ],
   "source": [
    "print(\"Number of models to be tested: \", len(param_grid))\n",
    "\n",
    "cv = CrossValidator(estimator=als,\n",
    "                    estimatorParamMaps=param_grid,\n",
    "                    evaluator=evaluator_rmse,\n",
    "                    numFolds=k,\n",
    "                    parallelism=max_parellelism)"
   ]
  },
  {
   "cell_type": "code",
   "execution_count": 17,
   "id": "0c24c836",
   "metadata": {},
   "outputs": [],
   "source": [
    "best_model = cv.fit(train).bestModel"
   ]
  },
  {
   "cell_type": "markdown",
   "id": "c1936063",
   "metadata": {},
   "source": [
    "## Estimated parameter values of the best model"
   ]
  },
  {
   "cell_type": "code",
   "execution_count": 18,
   "id": "97d5e66a",
   "metadata": {},
   "outputs": [
    {
     "name": "stdout",
     "output_type": "stream",
     "text": [
      "RMSE: 0.9094067669345076\n"
     ]
    },
    {
     "data": {
      "text/plain": [
       "{'rank': 100, 'maxIter': 10, 'regParam': 0.1}"
      ]
     },
     "execution_count": 18,
     "metadata": {},
     "output_type": "execute_result"
    }
   ],
   "source": [
    "predictions = best_model.transform(test)\n",
    "print(f\"RMSE: {evaluator_rmse.evaluate(predictions)}\")\n",
    "model_dict = {\n",
    "        \"rank\": best_model._java_obj.parent().getRank(),\n",
    "        \"maxIter\": best_model._java_obj.parent().getMaxIter(),\n",
    "        \"regParam\": best_model._java_obj.parent().getRegParam(),\n",
    "    }\n",
    "model_dict"
   ]
  },
  {
   "cell_type": "markdown",
   "id": "569de74a",
   "metadata": {},
   "source": [
    "## Compute CV error on u_i train/test datasets"
   ]
  },
  {
   "cell_type": "code",
   "execution_count": 23,
   "id": "863e34fd",
   "metadata": {},
   "outputs": [],
   "source": [
    "model = als \\\n",
    ".setRank(100)\\\n",
    ".setMaxIter(10)\\\n",
    ".setRegParam(0.1).fit(train)"
   ]
  },
  {
   "cell_type": "code",
   "execution_count": 24,
   "id": "c25501fc",
   "metadata": {},
   "outputs": [
    {
     "name": "stdout",
     "output_type": "stream",
     "text": [
      "Fold 1 train set RMSE: 0.721693867102374\n",
      "Fold 1 test set RMSE: 0.6600830035173448\n",
      "Fold 2 train set RMSE: 0.7228529327648138\n",
      "Fold 2 test set RMSE: 0.6549925854104728\n",
      "Fold 3 train set RMSE: 0.7253451780188627\n",
      "Fold 3 test set RMSE: 0.6438825390902951\n",
      "Fold 4 train set RMSE: 0.7276501180876778\n",
      "Fold 4 test set RMSE: 0.6333991507374506\n",
      "Fold 5 train set RMSE: 0.6481712865391784\n",
      "Fold 5 test set RMSE: 0.9160494551219932\n"
     ]
    }
   ],
   "source": [
    "for fold in range(1,k+1):\n",
    "    train = spark.read.csv(path+f'u{fold}_train.csv', inferSchema=True, encoding='utf-8', header=True)\n",
    "    test = spark.read.csv(path+f'u{fold}_test.csv', inferSchema=True, encoding='utf-8', header=True)\n",
    "    train_predictions = model.transform(train)\n",
    "    test_predictions = model.transform(test)\n",
    "    train_rmse = evaluator_rmse.evaluate(train_predictions)\n",
    "    test_rmse = evaluator_rmse.evaluate(test_predictions)\n",
    "    print(f'Fold {fold} train set RMSE: {train_rmse}')\n",
    "    print(f'Fold {fold} test set RMSE: {test_rmse}')"
   ]
  },
  {
   "cell_type": "markdown",
   "id": "42b8e8e6",
   "metadata": {},
   "source": [
    "# Predictions"
   ]
  },
  {
   "cell_type": "code",
   "execution_count": 33,
   "id": "cff5131e",
   "metadata": {},
   "outputs": [
    {
     "name": "stdout",
     "output_type": "stream",
     "text": [
      "+--------+-------+------+---------+----------+--------------------+------------+--------------------+--------------------+\n",
      "|movie_id|user_id|rating|timestamp|prediction|               title|release_date|            IMDb URL|               genre|\n",
      "+--------+-------+------+---------+----------+--------------------+------------+--------------------+--------------------+\n",
      "|     313|    907|     5|885860093| 5.4522047|      Titanic (1997)| 01-Jan-1997|http://us.imdb.co...|['Action', 'Drama...|\n",
      "|     313|    801|     5|890332694| 5.4420843|      Titanic (1997)| 01-Jan-1997|http://us.imdb.co...|['Action', 'Drama...|\n",
      "|      64|    330|     5|876546409| 5.3415003|Shawshank Redempt...| 01-Jan-1994|http://us.imdb.co...|           ['Drama']|\n",
      "|      50|    850|     5|883195143|  5.269635|    Star Wars (1977)| 01-Jan-1977|http://us.imdb.co...|['Action', 'Adven...|\n",
      "|     114|    928|     5|880936742|  5.253911|Wallace & Gromit:...| 05-Apr-1996|http://us.imdb.co...|       ['Animation']|\n",
      "|     496|    850|     5|883195079| 5.2468777|It's a Wonderful ...| 01-Jan-1946|http://us.imdb.co...|           ['Drama']|\n",
      "|     408|    941|     5|875048886| 5.2340565|Close Shave, A (1...| 28-Apr-1996|http://us.imdb.co...|['Animation', 'Co...|\n",
      "|     181|    507|     5|889965997| 5.1929736|Return of the Jed...| 14-Mar-1997|http://us.imdb.co...|['Action', 'Adven...|\n",
      "|      64|    332|     5|888359944| 5.1902657|Shawshank Redempt...| 01-Jan-1994|http://us.imdb.co...|           ['Drama']|\n",
      "|     483|    907|     4|880159937|  5.162967|   Casablanca (1942)| 01-Jan-1942|http://us.imdb.co...|['Drama', 'Romanc...|\n",
      "|     483|    821|     5|874793517|  5.141163|   Casablanca (1942)| 01-Jan-1942|http://us.imdb.co...|['Drama', 'Romanc...|\n",
      "|     173|    848|     5|887038134| 5.1120663|Princess Bride, T...| 01-Jan-1987|http://us.imdb.co...|['Action', 'Adven...|\n",
      "|     318|    850|     5|883194737| 5.1087227|Schindler's List ...| 01-Jan-1993|http://us.imdb.co...|    ['Drama', 'War']|\n",
      "|     143|    887|     5|881379781| 5.1067557|Sound of Music, T...| 01-Jan-1965|http://us.imdb.co...|         ['Musical']|\n",
      "|     923|    565|     4|891037333|  5.088072|Raise the Red Lan...| 01-Jan-1991|http://us.imdb.co...|           ['Drama']|\n",
      "|     302|    770|     2|875971568| 5.0802293|L.A. Confidential...| 01-Jan-1997|http://us.imdb.co...|['Crime', 'Film-N...|\n",
      "|    1368|    936|     5|886832337|  5.071598|Mina Tannenbaum (...| 01-Jan-1994|http://us.imdb.co...|           ['Drama']|\n",
      "|     134|    928|     5|880936742|  5.056119| Citizen Kane (1941)| 01-Jan-1941|http://us.imdb.co...|           ['Drama']|\n",
      "|     654|    686|     5|879546954|  5.047573|    Chinatown (1974)| 01-Jan-1974|http://us.imdb.co...|['Film-Noir', 'My...|\n",
      "|     408|    743|     4|881277931| 5.0449452|Close Shave, A (1...| 28-Apr-1996|http://us.imdb.co...|['Animation', 'Co...|\n",
      "|      98|    532|     5|893119438|  5.042052|Silence of the La...| 01-Jan-1991|http://us.imdb.co...|['Drama', 'Thrill...|\n",
      "|      50|    332|     5|887916675|  5.040165|    Star Wars (1977)| 01-Jan-1977|http://us.imdb.co...|['Action', 'Adven...|\n",
      "|     172|    928|     5|880936769| 5.0338864|Empire Strikes Ba...| 01-Jan-1980|http://us.imdb.co...|['Action', 'Adven...|\n",
      "|     480|     16|     5|877720297| 5.0297484|North by Northwes...| 01-Jan-1959|http://us.imdb.co...|['Comedy', 'Thril...|\n",
      "|      96|    472|     5|875980823|  5.027146|Terminator 2: Jud...| 01-Jan-1991|http://us.imdb.co...|['Action', 'Sci-F...|\n",
      "|     179|    118|     5|875384612|  5.022861|Clockwork Orange,...| 01-Jan-1971|http://us.imdb.co...|          ['Sci-Fi']|\n",
      "|     603|    686|     5|879546847| 5.0219994|  Rear Window (1954)| 01-Jan-1954|http://us.imdb.co...|['Mystery', 'Thri...|\n",
      "|     174|    882|     5|879864697|  5.018496|Raiders of the Lo...| 01-Jan-1981|http://us.imdb.co...|['Action', 'Adven...|\n",
      "|     168|    928|     5|880936817| 5.0120234|Monty Python and ...| 01-Jan-1974|http://us.imdb.co...|          ['Comedy']|\n",
      "|     143|    330|     5|876546470| 5.0089097|Sound of Music, T...| 01-Jan-1965|http://us.imdb.co...|         ['Musical']|\n",
      "|      50|    472|     5|875978010| 5.0035357|    Star Wars (1977)| 01-Jan-1977|http://us.imdb.co...|['Action', 'Adven...|\n",
      "|     483|    892|     5|886607642| 5.0016966|   Casablanca (1942)| 01-Jan-1942|http://us.imdb.co...|['Drama', 'Romanc...|\n",
      "|     427|    556|     5|882136440|  4.994104|To Kill a Mocking...| 01-Jan-1962|http://us.imdb.co...|           ['Drama']|\n",
      "|     496|    330|     5|876546172|  4.993904|It's a Wonderful ...| 01-Jan-1946|http://us.imdb.co...|           ['Drama']|\n",
      "|     483|    848|     5|887038021|  4.990384|   Casablanca (1942)| 01-Jan-1942|http://us.imdb.co...|['Drama', 'Romanc...|\n",
      "|     173|    907|     4|880160140| 4.9893985|Princess Bride, T...| 01-Jan-1987|http://us.imdb.co...|['Action', 'Adven...|\n",
      "|     173|    928|     4|880936863| 4.9836555|Princess Bride, T...| 01-Jan-1987|http://us.imdb.co...|['Action', 'Adven...|\n",
      "|     318|    395|     4|883764004|  4.980241|Schindler's List ...| 01-Jan-1993|http://us.imdb.co...|    ['Drama', 'War']|\n",
      "|     178|    747|     5|888639939|  4.975536| 12 Angry Men (1957)| 01-Jan-1957|http://us.imdb.co...|           ['Drama']|\n",
      "|      98|    457|     5|882553113| 4.9695277|Silence of the La...| 01-Jan-1991|http://us.imdb.co...|['Drama', 'Thrill...|\n",
      "|     408|    523|     5|883700527| 4.9639726|Close Shave, A (1...| 28-Apr-1996|http://us.imdb.co...|['Animation', 'Co...|\n",
      "|      79|    907|     5|880160008|  4.963283|Fugitive, The (1993)| 01-Jan-1993|http://us.imdb.co...|['Action', 'Thril...|\n",
      "|      12|    464|     5|878355167| 4.9626455|Usual Suspects, T...| 14-Aug-1995|http://us.imdb.co...|['Crime', 'Thrill...|\n",
      "|     313|    432|     4|889415763|  4.960899|      Titanic (1997)| 01-Jan-1997|http://us.imdb.co...|['Action', 'Drama...|\n",
      "|     318|    942|     5|891282903|  4.960489|Schindler's List ...| 01-Jan-1993|http://us.imdb.co...|    ['Drama', 'War']|\n",
      "|     127|    747|     5|888639362| 4.9582524|Godfather, The (1...| 01-Jan-1972|http://us.imdb.co...|['Action', 'Crime...|\n",
      "|     966|    330|     5|876547311|  4.951963|Affair to Remembe...| 01-Jan-1957|http://us.imdb.co...|         ['Romance']|\n",
      "|     127|     16|     5|877719206|  4.949355|Godfather, The (1...| 01-Jan-1972|http://us.imdb.co...|['Action', 'Crime...|\n",
      "|      50|    923|     5|880387306|   4.94327|    Star Wars (1977)| 01-Jan-1977|http://us.imdb.co...|['Action', 'Adven...|\n",
      "|      50|    907|     4|880158692| 4.9400134|    Star Wars (1977)| 01-Jan-1977|http://us.imdb.co...|['Action', 'Adven...|\n",
      "+--------+-------+------+---------+----------+--------------------+------------+--------------------+--------------------+\n",
      "only showing top 50 rows\n",
      "\n"
     ]
    }
   ],
   "source": [
    "predictions = model.transform(test)\n",
    "predictions = predictions.join(df_movies, on='movie_id')\n",
    "predictions.orderBy(col('prediction').desc()).show(50)"
   ]
  },
  {
   "cell_type": "markdown",
   "id": "52e70b6d",
   "metadata": {},
   "source": [
    "# Recommendations"
   ]
  },
  {
   "cell_type": "markdown",
   "id": "4ddfab48",
   "metadata": {},
   "source": [
    "## K item recommendations for all users"
   ]
  },
  {
   "cell_type": "code",
   "execution_count": 38,
   "id": "5a2a6d6f",
   "metadata": {},
   "outputs": [
    {
     "name": "stdout",
     "output_type": "stream",
     "text": [
      "+-------+--------------------+\n",
      "|user_id|     recommendations|\n",
      "+-------+--------------------+\n",
      "|      1|[{1449, 4.966744}...|\n",
      "|      3|[{320, 4.29379}, ...|\n",
      "|      5|[{408, 4.608048},...|\n",
      "|      6|[{1463, 4.6168427...|\n",
      "|     12|[{318, 5.2062187}...|\n",
      "|     13|[{814, 4.900056},...|\n",
      "|     16|[{64, 5.2119784},...|\n",
      "|     19|[{512, 4.6331506}...|\n",
      "|     20|[{394, 4.2026772}...|\n",
      "|     22|[{50, 4.8384953},...|\n",
      "|     26|[{313, 4.015071},...|\n",
      "|     27|[{64, 4.0003533},...|\n",
      "|     28|[{1449, 4.507613}...|\n",
      "|     31|[{641, 4.681726},...|\n",
      "|     34|[{1449, 5.4819927...|\n",
      "|     40|[{663, 3.8354282}...|\n",
      "|     44|[{50, 4.619193}, ...|\n",
      "|     47|[{1449, 4.4709473...|\n",
      "|     48|[{187, 4.6162915}...|\n",
      "|     52|[{408, 5.125088},...|\n",
      "+-------+--------------------+\n",
      "only showing top 20 rows\n",
      "\n",
      "root\n",
      " |-- user_id: integer (nullable = false)\n",
      " |-- recommendations: array (nullable = true)\n",
      " |    |-- element: struct (containsNull = true)\n",
      " |    |    |-- movie_id: integer (nullable = true)\n",
      " |    |    |-- rating: float (nullable = true)\n",
      "\n"
     ]
    }
   ],
   "source": [
    "recommendations_for_users = model.recommendForAllUsers(5)\n",
    "recommendations_for_users.show()\n",
    "recommendations_for_users.printSchema()"
   ]
  },
  {
   "cell_type": "markdown",
   "id": "65490606",
   "metadata": {},
   "source": [
    "### SQL operations such that the result has more readable format"
   ]
  },
  {
   "cell_type": "code",
   "execution_count": 39,
   "id": "c9b1137b",
   "metadata": {},
   "outputs": [],
   "source": [
    "recommendations_for_users = recommendations_for_users\\\n",
    ".withColumn(\"struct_col\", explode(\"recommendations\"))\\\n",
    ".select('user_id', col('struct_col.movie_id'), col('struct_col.rating'))\\\n",
    ".join(df_movies, on='movie_id')\\\n",
    ".join(df_users, on='user_id')\\\n",
    ".drop('zip_code')\\\n",
    ".orderBy(col('user_id').asc())"
   ]
  },
  {
   "cell_type": "code",
   "execution_count": 40,
   "id": "ff8132ca",
   "metadata": {},
   "outputs": [
    {
     "name": "stdout",
     "output_type": "stream",
     "text": [
      "+-------+--------+---------+--------------------+------------+--------------------+--------------------+---+------+----------+\n",
      "|user_id|movie_id|   rating|               title|release_date|            IMDb URL|               genre|age|gender|  interest|\n",
      "+-------+--------+---------+--------------------+------------+--------------------+--------------------+---+------+----------+\n",
      "|      1|     119|4.8466916|Maya Lin: A Stron...| 01-Jan-1994|http://us.imdb.co...|     ['Documentary']| 24|     M|technician|\n",
      "|      1|    1449| 4.966744|Pather Panchali (...| 22-Mar-1996|http://us.imdb.co...|           ['Drama']| 24|     M|technician|\n",
      "|      1|     169| 4.827329|Wrong Trousers, T...| 01-Jan-1993|http://us.imdb.co...|['Animation', 'Co...| 24|     M|technician|\n",
      "|      1|     408| 4.945852|Close Shave, A (1...| 28-Apr-1996|http://us.imdb.co...|['Animation', 'Co...| 24|     M|technician|\n",
      "|      1|     114| 4.785778|Wallace & Gromit:...| 05-Apr-1996|http://us.imdb.co...|       ['Animation']| 24|     M|technician|\n",
      "|      2|     511|4.5387907|Lawrence of Arabi...| 01-Jan-1962|http://us.imdb.co...|['Adventure', 'War']| 53|     F|     other|\n",
      "|      2|    1642| 4.546075|Some Mother's Son...| 27-Dec-1996|http://us.imdb.co...|           ['Drama']| 53|     F|     other|\n",
      "|      2|     127|4.6080976|Godfather, The (1...| 01-Jan-1972|http://us.imdb.co...|['Action', 'Crime...| 53|     F|     other|\n",
      "|      2|    1449|4.7184544|Pather Panchali (...| 22-Mar-1996|http://us.imdb.co...|           ['Drama']| 53|     F|     other|\n",
      "|      2|     100|4.5950317|        Fargo (1996)| 14-Feb-1997|http://us.imdb.co...|['Crime', 'Drama'...| 53|     F|     other|\n",
      "|      3|     320|  4.29379|Paradise Lost: Th...| 06-Dec-1996|http://us.imdb.co...|     ['Documentary']| 23|     M|    writer|\n",
      "|      3|     347|  3.86656|  Wag the Dog (1997)| 09-Jan-1998|http://us.imdb.co...| ['Comedy', 'Drama']| 23|     M|    writer|\n",
      "|      3|     902| 3.649894|Big Lebowski, The...| 26-Dec-1997|http://us.imdb.co...|['Comedy', 'Crime...| 23|     M|    writer|\n",
      "|      3|    1368|3.7171943|Mina Tannenbaum (...| 01-Jan-1994|http://us.imdb.co...|           ['Drama']| 23|     M|    writer|\n",
      "|      3|    1642| 3.598435|Some Mother's Son...| 27-Dec-1996|http://us.imdb.co...|           ['Drama']| 23|     M|    writer|\n",
      "|      4|     169|5.4298067|Wrong Trousers, T...| 01-Jan-1993|http://us.imdb.co...|['Animation', 'Co...| 24|     M|technician|\n",
      "|      4|    1642|5.2203255|Some Mother's Son...| 27-Dec-1996|http://us.imdb.co...|           ['Drama']| 24|     M|technician|\n",
      "|      4|     114|5.1803584|Wallace & Gromit:...| 05-Apr-1996|http://us.imdb.co...|       ['Animation']| 24|     M|technician|\n",
      "|      4|    1368|5.4207964|Mina Tannenbaum (...| 01-Jan-1994|http://us.imdb.co...|           ['Drama']| 24|     M|technician|\n",
      "|      4|     904|5.2492843|Ma vie en rose (M...| 26-Dec-1997|http://us.imdb.co...| ['Comedy', 'Drama']| 24|     M|technician|\n",
      "+-------+--------+---------+--------------------+------------+--------------------+--------------------+---+------+----------+\n",
      "only showing top 20 rows\n",
      "\n"
     ]
    }
   ],
   "source": [
    "recommendations_for_users.show()"
   ]
  },
  {
   "cell_type": "markdown",
   "id": "28ac1aed",
   "metadata": {},
   "source": [
    "## K user recommendations for all items"
   ]
  },
  {
   "cell_type": "code",
   "execution_count": 53,
   "id": "a0bc5351",
   "metadata": {},
   "outputs": [
    {
     "name": "stdout",
     "output_type": "stream",
     "text": [
      "+--------+--------------------+\n",
      "|movie_id|     recommendations|\n",
      "+--------+--------------------+\n",
      "|       1|[{810, 4.912862},...|\n",
      "|      12|[{118, 5.2276564}...|\n",
      "|      22|[{688, 5.4716034}...|\n",
      "|      26|[{770, 4.2078023}...|\n",
      "|      27|[{849, 4.4430504}...|\n",
      "|      28|[{688, 5.276476},...|\n",
      "|      31|[{507, 4.6713715}...|\n",
      "|      34|[{286, 4.357294},...|\n",
      "|      44|[{34, 4.1883907},...|\n",
      "|      47|[{686, 4.5573583}...|\n",
      "|      52|[{565, 4.724062},...|\n",
      "|      53|[{366, 4.362792},...|\n",
      "|      65|[{174, 4.632567},...|\n",
      "|      76|[{332, 4.532265},...|\n",
      "|      78|[{38, 4.418796}, ...|\n",
      "|      81|[{928, 4.559454},...|\n",
      "|      85|[{546, 4.788795},...|\n",
      "|      91|[{697, 4.5298524}...|\n",
      "|      93|[{34, 4.7150803},...|\n",
      "|     101|[{472, 4.538263},...|\n",
      "+--------+--------------------+\n",
      "only showing top 20 rows\n",
      "\n",
      "root\n",
      " |-- movie_id: integer (nullable = false)\n",
      " |-- recommendations: array (nullable = true)\n",
      " |    |-- element: struct (containsNull = true)\n",
      " |    |    |-- user_id: integer (nullable = true)\n",
      " |    |    |-- rating: float (nullable = true)\n",
      "\n"
     ]
    }
   ],
   "source": [
    "recommendations_for_items = model.recommendForAllItems(5)\n",
    "recommendations_for_items.show()\n",
    "recommendations_for_items.printSchema()"
   ]
  },
  {
   "cell_type": "markdown",
   "id": "84dc01cc",
   "metadata": {},
   "source": [
    "### SQL operations such that the result has more readable format"
   ]
  },
  {
   "cell_type": "code",
   "execution_count": 54,
   "id": "ca7f92fd",
   "metadata": {},
   "outputs": [],
   "source": [
    "recommendations_for_items = recommendations_for_items\\\n",
    ".withColumn(\"struct_col\", explode(\"recommendations\"))\\\n",
    ".select('movie_id', col('struct_col.user_id'), col('struct_col.rating'))\\\n",
    ".join(df_movies, on='movie_id')\\\n",
    ".join(df_users, on='user_id')\\\n",
    ".drop('zip_code')\\\n",
    ".orderBy(col('movie_id').asc())"
   ]
  },
  {
   "cell_type": "code",
   "execution_count": 55,
   "id": "dd04f992",
   "metadata": {},
   "outputs": [
    {
     "name": "stdout",
     "output_type": "stream",
     "text": [
      "+-------+--------+---------+-----------------+------------+--------------------+--------------------+---+------+-------------+\n",
      "|user_id|movie_id|   rating|            title|release_date|            IMDb URL|               genre|age|gender|     interest|\n",
      "+-------+--------+---------+-----------------+------------+--------------------+--------------------+---+------+-------------+\n",
      "|    173|       1|  4.82556| Toy Story (1995)| 01-Jan-1995|http://us.imdb.co...|\"['Animation', \"\"...| 56|     M|        other|\n",
      "|    810|       1| 4.912862| Toy Story (1995)| 01-Jan-1995|http://us.imdb.co...|\"['Animation', \"\"...| 55|     F|        other|\n",
      "|    330|       1|4.7818465| Toy Story (1995)| 01-Jan-1995|http://us.imdb.co...|\"['Animation', \"\"...| 35|     F|     educator|\n",
      "|    688|       1|4.8960257| Toy Story (1995)| 01-Jan-1995|http://us.imdb.co...|\"['Animation', \"\"...| 37|     F|administrator|\n",
      "|    357|       1| 4.761861| Toy Story (1995)| 01-Jan-1995|http://us.imdb.co...|\"['Animation', \"\"...| 26|     M|    executive|\n",
      "|    907|       2| 4.287385| GoldenEye (1995)| 01-Jan-1995|http://us.imdb.co...|['Action', 'Adven...| 25|     F|        other|\n",
      "|    507|       2|4.3053136| GoldenEye (1995)| 01-Jan-1995|http://us.imdb.co...|['Action', 'Adven...| 18|     F|       writer|\n",
      "|    810|       2|4.2751207| GoldenEye (1995)| 01-Jan-1995|http://us.imdb.co...|['Action', 'Adven...| 55|     F|        other|\n",
      "|    688|       2|4.3472404| GoldenEye (1995)| 01-Jan-1995|http://us.imdb.co...|['Action', 'Adven...| 37|     F|administrator|\n",
      "|    137|       2|4.2480373| GoldenEye (1995)| 01-Jan-1995|http://us.imdb.co...|['Action', 'Adven...| 50|     M|     educator|\n",
      "|    507|       3| 4.204919|Four Rooms (1995)| 01-Jan-1995|http://us.imdb.co...|        ['Thriller']| 18|     F|       writer|\n",
      "|    472|       3| 4.416803|Four Rooms (1995)| 01-Jan-1995|http://us.imdb.co...|        ['Thriller']| 24|     M|      student|\n",
      "|    688|       3|4.2449255|Four Rooms (1995)| 01-Jan-1995|http://us.imdb.co...|        ['Thriller']| 37|     F|administrator|\n",
      "|    628|       3| 4.403816|Four Rooms (1995)| 01-Jan-1995|http://us.imdb.co...|        ['Thriller']| 13|     M|         none|\n",
      "|    427|       3| 4.278224|Four Rooms (1995)| 01-Jan-1995|http://us.imdb.co...|        ['Thriller']| 51|     M|       doctor|\n",
      "|    152|       4|4.1461263|Get Shorty (1995)| 01-Jan-1995|http://us.imdb.co...|['Action', 'Comed...| 33|     F|     educator|\n",
      "|    928|       4|4.1793404|Get Shorty (1995)| 01-Jan-1995|http://us.imdb.co...|['Action', 'Comed...| 21|     M|      student|\n",
      "|    118|       4|4.2248187|Get Shorty (1995)| 01-Jan-1995|http://us.imdb.co...|['Action', 'Comed...| 21|     M|administrator|\n",
      "|    287|       4|4.1549654|Get Shorty (1995)| 01-Jan-1995|http://us.imdb.co...|['Action', 'Comed...| 21|     M|     salesman|\n",
      "|    640|       4|4.1513877|Get Shorty (1995)| 01-Jan-1995|http://us.imdb.co...|['Action', 'Comed...| 20|     M|      student|\n",
      "+-------+--------+---------+-----------------+------------+--------------------+--------------------+---+------+-------------+\n",
      "only showing top 20 rows\n",
      "\n"
     ]
    }
   ],
   "source": [
    "recommendations_for_items.show(20)"
   ]
  },
  {
   "cell_type": "markdown",
   "id": "06f543d5",
   "metadata": {},
   "source": [
    "# Saving recommendations to .csv files"
   ]
  },
  {
   "cell_type": "code",
   "execution_count": 64,
   "id": "a03eb09a",
   "metadata": {},
   "outputs": [],
   "source": [
    "df_recommended_users = recommendations_for_items.toPandas()"
   ]
  },
  {
   "cell_type": "code",
   "execution_count": 65,
   "id": "2f5f2a4e",
   "metadata": {},
   "outputs": [],
   "source": [
    "df_recommended_items = recommendations_for_users.toPandas()"
   ]
  },
  {
   "cell_type": "code",
   "execution_count": 66,
   "id": "a4a7aad0",
   "metadata": {},
   "outputs": [],
   "source": [
    "df_recommended_users.to_csv(path+'recommendForAllItems.csv')"
   ]
  },
  {
   "cell_type": "code",
   "execution_count": 67,
   "id": "5da5bda8",
   "metadata": {},
   "outputs": [],
   "source": [
    "df_recommended_items.to_csv(path+'recommendForAllUsers.csv')"
   ]
  },
  {
   "cell_type": "code",
   "execution_count": null,
   "id": "30aaf4ea",
   "metadata": {},
   "outputs": [],
   "source": []
  }
 ],
 "metadata": {
  "kernelspec": {
   "display_name": "Python 3 (ipykernel)",
   "language": "python",
   "name": "python3"
  },
  "language_info": {
   "codemirror_mode": {
    "name": "ipython",
    "version": 3
   },
   "file_extension": ".py",
   "mimetype": "text/x-python",
   "name": "python",
   "nbconvert_exporter": "python",
   "pygments_lexer": "ipython3",
   "version": "3.9.12"
  }
 },
 "nbformat": 4,
 "nbformat_minor": 5
}

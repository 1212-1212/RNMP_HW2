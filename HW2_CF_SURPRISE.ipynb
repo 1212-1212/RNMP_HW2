{
 "cells": [
  {
   "cell_type": "code",
   "execution_count": 37,
   "id": "cc8feebc",
   "metadata": {},
   "outputs": [],
   "source": [
    "from surprise import Dataset, Reader, SVD, NMF, NormalPredictor, KNNBasic\n",
    "from surprise.model_selection import cross_validate, GridSearchCV, train_test_split, KFold\n",
    "from surprise.accuracy import rmse\n",
    "import pandas as pd\n",
    "from collections import defaultdict"
   ]
  },
  {
   "cell_type": "code",
   "execution_count": 4,
   "id": "b3e9e41c",
   "metadata": {},
   "outputs": [],
   "source": [
    "path = 'E:\\\\181255_RNMP_HW2\\\\ml-100k\\\\'"
   ]
  },
  {
   "cell_type": "code",
   "execution_count": 7,
   "id": "61057103",
   "metadata": {},
   "outputs": [],
   "source": [
    "k = 5"
   ]
  },
  {
   "cell_type": "markdown",
   "id": "5f614993",
   "metadata": {},
   "source": [
    "# Read datasets"
   ]
  },
  {
   "cell_type": "code",
   "execution_count": 5,
   "id": "ee67c360",
   "metadata": {},
   "outputs": [
    {
     "data": {
      "text/plain": [
       "<surprise.dataset.DatasetAutoFolds at 0x27c2db0aa30>"
      ]
     },
     "execution_count": 5,
     "metadata": {},
     "output_type": "execute_result"
    }
   ],
   "source": [
    "reader = Reader(line_format=\"user item rating timestamp\", sep=\",\", skip_lines=1)\n",
    "df = Dataset.load_from_file(path+\"data.csv\", reader)\n",
    "df"
   ]
  },
  {
   "cell_type": "code",
   "execution_count": 35,
   "id": "87094194",
   "metadata": {},
   "outputs": [
    {
     "data": {
      "text/html": [
       "<div>\n",
       "<style scoped>\n",
       "    .dataframe tbody tr th:only-of-type {\n",
       "        vertical-align: middle;\n",
       "    }\n",
       "\n",
       "    .dataframe tbody tr th {\n",
       "        vertical-align: top;\n",
       "    }\n",
       "\n",
       "    .dataframe thead th {\n",
       "        text-align: right;\n",
       "    }\n",
       "</style>\n",
       "<table border=\"1\" class=\"dataframe\">\n",
       "  <thead>\n",
       "    <tr style=\"text-align: right;\">\n",
       "      <th></th>\n",
       "      <th>movie_id</th>\n",
       "      <th>title</th>\n",
       "      <th>release_date</th>\n",
       "      <th>IMDb URL</th>\n",
       "      <th>genre</th>\n",
       "    </tr>\n",
       "  </thead>\n",
       "  <tbody>\n",
       "    <tr>\n",
       "      <th>0</th>\n",
       "      <td>1</td>\n",
       "      <td>Toy Story (1995)</td>\n",
       "      <td>01-Jan-1995</td>\n",
       "      <td>http://us.imdb.com/M/title-exact?Toy%20Story%2...</td>\n",
       "      <td>['Animation', \"Children's\", 'Comedy']</td>\n",
       "    </tr>\n",
       "    <tr>\n",
       "      <th>1</th>\n",
       "      <td>2</td>\n",
       "      <td>GoldenEye (1995)</td>\n",
       "      <td>01-Jan-1995</td>\n",
       "      <td>http://us.imdb.com/M/title-exact?GoldenEye%20(...</td>\n",
       "      <td>['Action', 'Adventure', 'Thriller']</td>\n",
       "    </tr>\n",
       "    <tr>\n",
       "      <th>2</th>\n",
       "      <td>3</td>\n",
       "      <td>Four Rooms (1995)</td>\n",
       "      <td>01-Jan-1995</td>\n",
       "      <td>http://us.imdb.com/M/title-exact?Four%20Rooms%...</td>\n",
       "      <td>['Thriller']</td>\n",
       "    </tr>\n",
       "    <tr>\n",
       "      <th>3</th>\n",
       "      <td>4</td>\n",
       "      <td>Get Shorty (1995)</td>\n",
       "      <td>01-Jan-1995</td>\n",
       "      <td>http://us.imdb.com/M/title-exact?Get%20Shorty%...</td>\n",
       "      <td>['Action', 'Comedy', 'Drama']</td>\n",
       "    </tr>\n",
       "    <tr>\n",
       "      <th>4</th>\n",
       "      <td>5</td>\n",
       "      <td>Copycat (1995)</td>\n",
       "      <td>01-Jan-1995</td>\n",
       "      <td>http://us.imdb.com/M/title-exact?Copycat%20(1995)</td>\n",
       "      <td>['Crime', 'Drama', 'Thriller']</td>\n",
       "    </tr>\n",
       "    <tr>\n",
       "      <th>...</th>\n",
       "      <td>...</td>\n",
       "      <td>...</td>\n",
       "      <td>...</td>\n",
       "      <td>...</td>\n",
       "      <td>...</td>\n",
       "    </tr>\n",
       "    <tr>\n",
       "      <th>1677</th>\n",
       "      <td>1678</td>\n",
       "      <td>Mat' i syn (1997)</td>\n",
       "      <td>06-Feb-1998</td>\n",
       "      <td>http://us.imdb.com/M/title-exact?Mat%27+i+syn+...</td>\n",
       "      <td>['Drama']</td>\n",
       "    </tr>\n",
       "    <tr>\n",
       "      <th>1678</th>\n",
       "      <td>1679</td>\n",
       "      <td>B. Monkey (1998)</td>\n",
       "      <td>06-Feb-1998</td>\n",
       "      <td>http://us.imdb.com/M/title-exact?B%2E+Monkey+(...</td>\n",
       "      <td>['Romance', 'Thriller']</td>\n",
       "    </tr>\n",
       "    <tr>\n",
       "      <th>1679</th>\n",
       "      <td>1680</td>\n",
       "      <td>Sliding Doors (1998)</td>\n",
       "      <td>01-Jan-1998</td>\n",
       "      <td>http://us.imdb.com/Title?Sliding+Doors+(1998)</td>\n",
       "      <td>['Drama', 'Romance']</td>\n",
       "    </tr>\n",
       "    <tr>\n",
       "      <th>1680</th>\n",
       "      <td>1681</td>\n",
       "      <td>You So Crazy (1994)</td>\n",
       "      <td>01-Jan-1994</td>\n",
       "      <td>http://us.imdb.com/M/title-exact?You%20So%20Cr...</td>\n",
       "      <td>['Comedy']</td>\n",
       "    </tr>\n",
       "    <tr>\n",
       "      <th>1681</th>\n",
       "      <td>1682</td>\n",
       "      <td>Scream of Stone (Schrei aus Stein) (1991)</td>\n",
       "      <td>08-Mar-1996</td>\n",
       "      <td>http://us.imdb.com/M/title-exact?Schrei%20aus%...</td>\n",
       "      <td>['Drama']</td>\n",
       "    </tr>\n",
       "  </tbody>\n",
       "</table>\n",
       "<p>1682 rows × 5 columns</p>\n",
       "</div>"
      ],
      "text/plain": [
       "      movie_id                                      title release_date  \\\n",
       "0            1                           Toy Story (1995)  01-Jan-1995   \n",
       "1            2                           GoldenEye (1995)  01-Jan-1995   \n",
       "2            3                          Four Rooms (1995)  01-Jan-1995   \n",
       "3            4                          Get Shorty (1995)  01-Jan-1995   \n",
       "4            5                             Copycat (1995)  01-Jan-1995   \n",
       "...        ...                                        ...          ...   \n",
       "1677      1678                          Mat' i syn (1997)  06-Feb-1998   \n",
       "1678      1679                           B. Monkey (1998)  06-Feb-1998   \n",
       "1679      1680                       Sliding Doors (1998)  01-Jan-1998   \n",
       "1680      1681                        You So Crazy (1994)  01-Jan-1994   \n",
       "1681      1682  Scream of Stone (Schrei aus Stein) (1991)  08-Mar-1996   \n",
       "\n",
       "                                               IMDb URL  \\\n",
       "0     http://us.imdb.com/M/title-exact?Toy%20Story%2...   \n",
       "1     http://us.imdb.com/M/title-exact?GoldenEye%20(...   \n",
       "2     http://us.imdb.com/M/title-exact?Four%20Rooms%...   \n",
       "3     http://us.imdb.com/M/title-exact?Get%20Shorty%...   \n",
       "4     http://us.imdb.com/M/title-exact?Copycat%20(1995)   \n",
       "...                                                 ...   \n",
       "1677  http://us.imdb.com/M/title-exact?Mat%27+i+syn+...   \n",
       "1678  http://us.imdb.com/M/title-exact?B%2E+Monkey+(...   \n",
       "1679      http://us.imdb.com/Title?Sliding+Doors+(1998)   \n",
       "1680  http://us.imdb.com/M/title-exact?You%20So%20Cr...   \n",
       "1681  http://us.imdb.com/M/title-exact?Schrei%20aus%...   \n",
       "\n",
       "                                      genre  \n",
       "0     ['Animation', \"Children's\", 'Comedy']  \n",
       "1       ['Action', 'Adventure', 'Thriller']  \n",
       "2                              ['Thriller']  \n",
       "3             ['Action', 'Comedy', 'Drama']  \n",
       "4            ['Crime', 'Drama', 'Thriller']  \n",
       "...                                     ...  \n",
       "1677                              ['Drama']  \n",
       "1678                ['Romance', 'Thriller']  \n",
       "1679                   ['Drama', 'Romance']  \n",
       "1680                             ['Comedy']  \n",
       "1681                              ['Drama']  \n",
       "\n",
       "[1682 rows x 5 columns]"
      ]
     },
     "execution_count": 35,
     "metadata": {},
     "output_type": "execute_result"
    }
   ],
   "source": [
    "df_movies = pd.read_csv(path+'movies.csv', encoding='latin')\n",
    "df_movies"
   ]
  },
  {
   "cell_type": "markdown",
   "id": "7e09aa8a",
   "metadata": {},
   "source": [
    "# Model selection"
   ]
  },
  {
   "cell_type": "code",
   "execution_count": 6,
   "id": "3c7a4d49",
   "metadata": {},
   "outputs": [],
   "source": [
    "def get_average_cv_rmse(folds: list, k: int) -> float:\n",
    "    return sum(folds) / k"
   ]
  },
  {
   "cell_type": "code",
   "execution_count": 8,
   "id": "605c898b",
   "metadata": {},
   "outputs": [],
   "source": [
    "models = [\n",
    "        {\n",
    "            'name': 'svd',\n",
    "            'instance': SVD(),\n",
    "            f'{k}-fold cv rmse score': float('inf')\n",
    "        },\n",
    "        {\n",
    "            'name': 'nmf',\n",
    "            'instance': NMF(),\n",
    "            f'{k}-fold cv rmse score': float('inf')\n",
    "        },\n",
    "        {\n",
    "            'name': 'normal_predictor',\n",
    "            'instance': NormalPredictor(),\n",
    "            f'{k}-fold cv rmse score': float('inf')\n",
    "        },\n",
    "        {\n",
    "            'name': 'knn_basic',\n",
    "            'instance': KNNBasic(),\n",
    "            f'{k}-fold cv rmse score': float('inf')\n",
    "        }\n",
    "    ]"
   ]
  },
  {
   "cell_type": "code",
   "execution_count": 10,
   "id": "b9812f7e",
   "metadata": {},
   "outputs": [
    {
     "name": "stdout",
     "output_type": "stream",
     "text": [
      "Evaluating RMSE of algorithm SVD on 5 split(s).\n",
      "\n",
      "                  Fold 1  Fold 2  Fold 3  Fold 4  Fold 5  Mean    Std     \n",
      "RMSE (testset)    0.9361  0.9332  0.9413  0.9331  0.9358  0.9359  0.0030  \n",
      "Fit time          0.88    0.85    0.84    0.83    0.87    0.85    0.02    \n",
      "Test time         0.33    0.15    0.10    0.15    0.10    0.17    0.09    \n",
      "Evaluating RMSE of algorithm NMF on 5 split(s).\n",
      "\n",
      "                  Fold 1  Fold 2  Fold 3  Fold 4  Fold 5  Mean    Std     \n",
      "RMSE (testset)    0.9644  0.9541  0.9634  0.9690  0.9660  0.9634  0.0050  \n",
      "Fit time          1.28    1.56    1.39    1.35    1.28    1.37    0.10    \n",
      "Test time         0.16    0.11    0.15    0.10    0.15    0.13    0.02    \n",
      "Evaluating RMSE of algorithm NormalPredictor on 5 split(s).\n",
      "\n",
      "                  Fold 1  Fold 2  Fold 3  Fold 4  Fold 5  Mean    Std     \n",
      "RMSE (testset)    1.5134  1.5213  1.5144  1.5179  1.5134  1.5161  0.0031  \n",
      "Fit time          0.08    0.11    0.10    0.10    0.11    0.10    0.01    \n",
      "Test time         0.10    0.09    0.09    0.15    0.09    0.11    0.02    \n",
      "Computing the msd similarity matrix...\n",
      "Done computing similarity matrix.\n",
      "Computing the msd similarity matrix...\n",
      "Done computing similarity matrix.\n",
      "Computing the msd similarity matrix...\n",
      "Done computing similarity matrix.\n",
      "Computing the msd similarity matrix...\n",
      "Done computing similarity matrix.\n",
      "Computing the msd similarity matrix...\n",
      "Done computing similarity matrix.\n",
      "Evaluating RMSE of algorithm KNNBasic on 5 split(s).\n",
      "\n",
      "                  Fold 1  Fold 2  Fold 3  Fold 4  Fold 5  Mean    Std     \n",
      "RMSE (testset)    0.9660  0.9809  0.9862  0.9802  0.9810  0.9788  0.0068  \n",
      "Fit time          0.37    0.40    0.42    0.42    0.41    0.41    0.02    \n",
      "Test time         2.60    2.44    2.55    2.54    2.55    2.53    0.05    \n"
     ]
    }
   ],
   "source": [
    "for model in models:\n",
    "    cv = cross_validate(model['instance'], df, measures=['RMSE'], cv=5, verbose=True)\n",
    "    model[f'{k}-fold cv rmse score'] = get_average_cv_rmse(cv['test_rmse'], k)\n",
    "\n",
    "best_model = min(models, key=lambda dict_: list(dict_.values())[2])"
   ]
  },
  {
   "cell_type": "code",
   "execution_count": 11,
   "id": "a323306d",
   "metadata": {},
   "outputs": [
    {
     "data": {
      "text/plain": [
       "{'name': 'svd',\n",
       " 'instance': <surprise.prediction_algorithms.matrix_factorization.SVD at 0x27c2d9f3910>,\n",
       " '5-fold cv rmse score': 0.9358994209691712}"
      ]
     },
     "execution_count": 11,
     "metadata": {},
     "output_type": "execute_result"
    }
   ],
   "source": [
    "best_model"
   ]
  },
  {
   "cell_type": "markdown",
   "id": "5e2c7b94",
   "metadata": {},
   "source": [
    "# SVD Hyperparameter tuning"
   ]
  },
  {
   "cell_type": "markdown",
   "id": "1c3555f0",
   "metadata": {},
   "source": [
    "## Define parameter search space"
   ]
  },
  {
   "cell_type": "code",
   "execution_count": 12,
   "id": "68b7a05e",
   "metadata": {},
   "outputs": [],
   "source": [
    "param_grid = {\n",
    "        'n_factors': [10, 20, 50, 100, 200],\n",
    "        'n_epochs': [10, 20, 50, 100, 200],\n",
    "        'lr_all': [0.001, 0.005, 0.01],\n",
    "        'reg_all': [0.01, 0.05, 0.1]\n",
    "    }"
   ]
  },
  {
   "cell_type": "markdown",
   "id": "da7c54e6",
   "metadata": {},
   "source": [
    "## Estimate best parameters using K-fold cross validation"
   ]
  },
  {
   "cell_type": "code",
   "execution_count": 16,
   "id": "96f408f8",
   "metadata": {},
   "outputs": [],
   "source": [
    "grid_search = GridSearchCV(SVD, param_grid, measures=['rmse', 'mae'], cv=5, n_jobs=-1)\n",
    "grid_search.fit(df)"
   ]
  },
  {
   "cell_type": "markdown",
   "id": "7132743f",
   "metadata": {},
   "source": [
    "## Estimated parameter values of the best model"
   ]
  },
  {
   "cell_type": "code",
   "execution_count": 17,
   "id": "125306a6",
   "metadata": {},
   "outputs": [
    {
     "name": "stdout",
     "output_type": "stream",
     "text": [
      "0.9085883039094661\n",
      "{'n_factors': 200, 'n_epochs': 100, 'lr_all': 0.005, 'reg_all': 0.1}\n"
     ]
    }
   ],
   "source": [
    "print(grid_search.best_score['rmse'])\n",
    "print(grid_search.best_params['rmse'])"
   ]
  },
  {
   "cell_type": "markdown",
   "id": "8f1e6b17",
   "metadata": {},
   "source": [
    "## Compute CV error on u_i train/test datasets"
   ]
  },
  {
   "cell_type": "code",
   "execution_count": 18,
   "id": "36d431cb",
   "metadata": {},
   "outputs": [],
   "source": [
    "model = SVD(n_factors=200,\n",
    "           n_epochs=100,\n",
    "           lr_all=0.005,\n",
    "           reg_all=0.1)"
   ]
  },
  {
   "cell_type": "code",
   "execution_count": 21,
   "id": "b514c2bd",
   "metadata": {},
   "outputs": [
    {
     "name": "stdout",
     "output_type": "stream",
     "text": [
      "RMSE: 0.6376\n",
      "RMSE: 0.9096\n",
      "Fold 1 train set RMSE: 0.63755752657926\n",
      "Fold 1 test set RMSE: 0.9095874540304604\n",
      "RMSE: 0.6380\n",
      "RMSE: 0.9119\n",
      "Fold 2 train set RMSE: 0.6379685827474141\n",
      "Fold 2 test set RMSE: 0.9118767658864118\n",
      "RMSE: 0.6388\n",
      "RMSE: 0.9057\n",
      "Fold 3 train set RMSE: 0.6387638700434524\n",
      "Fold 3 test set RMSE: 0.9057354578375343\n",
      "RMSE: 0.6380\n",
      "RMSE: 0.9107\n",
      "Fold 4 train set RMSE: 0.637986904895005\n",
      "Fold 4 test set RMSE: 0.910724556423682\n",
      "RMSE: 0.6372\n",
      "RMSE: 0.9073\n",
      "Fold 5 train set RMSE: 0.637179003760379\n",
      "Fold 5 test set RMSE: 0.907309692820498\n"
     ]
    }
   ],
   "source": [
    "kf = KFold(n_splits=k)\n",
    "for fold, (train, test) in enumerate(kf.split(df)):\n",
    "    train_predictions = model.fit(train).test(train.build_testset())\n",
    "    test_predictions = model.fit(train).test(test)\n",
    "    train_rmse = rmse(train_predictions)\n",
    "    test_rmse = rmse(test_predictions)\n",
    "    print(f'Fold {fold+1} train set RMSE: {train_rmse}')\n",
    "    print(f'Fold {fold+1} test set RMSE: {test_rmse}')"
   ]
  },
  {
   "cell_type": "markdown",
   "id": "231c1621",
   "metadata": {},
   "source": [
    "## Train/Test split"
   ]
  },
  {
   "cell_type": "code",
   "execution_count": 23,
   "id": "5eda8d31",
   "metadata": {},
   "outputs": [],
   "source": [
    "train, test = train_test_split(df, test_size=0.2, random_state=42)"
   ]
  },
  {
   "cell_type": "markdown",
   "id": "e4af6b3f",
   "metadata": {},
   "source": [
    "# Predictions"
   ]
  },
  {
   "cell_type": "code",
   "execution_count": 24,
   "id": "e62fbf36",
   "metadata": {},
   "outputs": [],
   "source": [
    "predictions = model.fit(train).test(test)"
   ]
  },
  {
   "cell_type": "code",
   "execution_count": 25,
   "id": "7bffa398",
   "metadata": {},
   "outputs": [
    {
     "name": "stdout",
     "output_type": "stream",
     "text": [
      "RMSE: 0.9104\n"
     ]
    },
    {
     "data": {
      "text/plain": [
       "0.9103796517833047"
      ]
     },
     "execution_count": 25,
     "metadata": {},
     "output_type": "execute_result"
    }
   ],
   "source": [
    "rmse(predictions)"
   ]
  },
  {
   "cell_type": "markdown",
   "id": "4695bf1e",
   "metadata": {},
   "source": [
    "# Recommendations"
   ]
  },
  {
   "cell_type": "code",
   "execution_count": 29,
   "id": "9532a569",
   "metadata": {},
   "outputs": [
    {
     "data": {
      "text/plain": [
       "<surprise.prediction_algorithms.matrix_factorization.SVD at 0x27c38bbe670>"
      ]
     },
     "execution_count": 29,
     "metadata": {},
     "output_type": "execute_result"
    }
   ],
   "source": [
    "train_set = df.build_full_trainset()\n",
    "model.fit(train_set)"
   ]
  },
  {
   "cell_type": "code",
   "execution_count": 28,
   "id": "7c752068",
   "metadata": {},
   "outputs": [],
   "source": [
    "predictions = model.test(train_set.build_anti_testset())"
   ]
  },
  {
   "cell_type": "code",
   "execution_count": 30,
   "id": "851f1728",
   "metadata": {},
   "outputs": [],
   "source": [
    "def get_predictions(predictions):\n",
    "    \n",
    "    top_n = defaultdict(list)\n",
    "    for uid, iid, true, est, _ in predictions:\n",
    "        top_n[uid].append((iid, est))\n",
    "    \n",
    "    for uid, user_ratings in top_n.items():\n",
    "        user_ratings.sort(key=lambda x: x[1], reverse=True)\n",
    "    \n",
    "    return top_n"
   ]
  },
  {
   "cell_type": "code",
   "execution_count": 31,
   "id": "e0bdeb5e",
   "metadata": {},
   "outputs": [],
   "source": [
    "def get_n_predictions(n):\n",
    "    result = defaultdict(list)\n",
    "    for uid, user_ratings in get_predictions(predictions).items():\n",
    "        result[uid] = user_ratings[:n]\n",
    "    return result"
   ]
  },
  {
   "cell_type": "code",
   "execution_count": 42,
   "id": "e0a6db89",
   "metadata": {},
   "outputs": [
    {
     "data": {
      "text/html": [
       "<div>\n",
       "<style scoped>\n",
       "    .dataframe tbody tr th:only-of-type {\n",
       "        vertical-align: middle;\n",
       "    }\n",
       "\n",
       "    .dataframe tbody tr th {\n",
       "        vertical-align: top;\n",
       "    }\n",
       "\n",
       "    .dataframe thead th {\n",
       "        text-align: right;\n",
       "    }\n",
       "</style>\n",
       "<table border=\"1\" class=\"dataframe\">\n",
       "  <thead>\n",
       "    <tr style=\"text-align: right;\">\n",
       "      <th></th>\n",
       "      <th>user_id</th>\n",
       "      <th>movie_id</th>\n",
       "      <th>title</th>\n",
       "      <th>release_date</th>\n",
       "      <th>IMDb URL</th>\n",
       "      <th>genre</th>\n",
       "    </tr>\n",
       "  </thead>\n",
       "  <tbody>\n",
       "    <tr>\n",
       "      <th>0</th>\n",
       "      <td>196</td>\n",
       "      <td>1449</td>\n",
       "      <td>Pather Panchali (1955)</td>\n",
       "      <td>22-Mar-1996</td>\n",
       "      <td>http://us.imdb.com/M/title-exact?Pather%20Panc...</td>\n",
       "      <td>['Drama']</td>\n",
       "    </tr>\n",
       "    <tr>\n",
       "      <th>1</th>\n",
       "      <td>186</td>\n",
       "      <td>318</td>\n",
       "      <td>Schindler's List (1993)</td>\n",
       "      <td>01-Jan-1993</td>\n",
       "      <td>http://us.imdb.com/M/title-exact?Schindler's%2...</td>\n",
       "      <td>['Drama', 'War']</td>\n",
       "    </tr>\n",
       "    <tr>\n",
       "      <th>2</th>\n",
       "      <td>22</td>\n",
       "      <td>408</td>\n",
       "      <td>Close Shave, A (1995)</td>\n",
       "      <td>28-Apr-1996</td>\n",
       "      <td>http://us.imdb.com/M/title-exact?Close%20Shave...</td>\n",
       "      <td>['Animation', 'Comedy', 'Thriller']</td>\n",
       "    </tr>\n",
       "    <tr>\n",
       "      <th>3</th>\n",
       "      <td>244</td>\n",
       "      <td>1449</td>\n",
       "      <td>Pather Panchali (1955)</td>\n",
       "      <td>22-Mar-1996</td>\n",
       "      <td>http://us.imdb.com/M/title-exact?Pather%20Panc...</td>\n",
       "      <td>['Drama']</td>\n",
       "    </tr>\n",
       "    <tr>\n",
       "      <th>4</th>\n",
       "      <td>166</td>\n",
       "      <td>169</td>\n",
       "      <td>Wrong Trousers, The (1993)</td>\n",
       "      <td>01-Jan-1993</td>\n",
       "      <td>http://us.imdb.com/M/title-exact?Wrong%20Trous...</td>\n",
       "      <td>['Animation', 'Comedy']</td>\n",
       "    </tr>\n",
       "    <tr>\n",
       "      <th>...</th>\n",
       "      <td>...</td>\n",
       "      <td>...</td>\n",
       "      <td>...</td>\n",
       "      <td>...</td>\n",
       "      <td>...</td>\n",
       "      <td>...</td>\n",
       "    </tr>\n",
       "    <tr>\n",
       "      <th>4710</th>\n",
       "      <td>939</td>\n",
       "      <td>318</td>\n",
       "      <td>Schindler's List (1993)</td>\n",
       "      <td>01-Jan-1993</td>\n",
       "      <td>http://us.imdb.com/M/title-exact?Schindler's%2...</td>\n",
       "      <td>['Drama', 'War']</td>\n",
       "    </tr>\n",
       "    <tr>\n",
       "      <th>4711</th>\n",
       "      <td>936</td>\n",
       "      <td>603</td>\n",
       "      <td>Rear Window (1954)</td>\n",
       "      <td>01-Jan-1954</td>\n",
       "      <td>http://us.imdb.com/M/title-exact?Rear%20Window...</td>\n",
       "      <td>['Mystery', 'Thriller']</td>\n",
       "    </tr>\n",
       "    <tr>\n",
       "      <th>4712</th>\n",
       "      <td>930</td>\n",
       "      <td>513</td>\n",
       "      <td>Third Man, The (1949)</td>\n",
       "      <td>01-Jan-1949</td>\n",
       "      <td>http://us.imdb.com/M/title-exact?Third%20Man,%...</td>\n",
       "      <td>['Mystery', 'Thriller']</td>\n",
       "    </tr>\n",
       "    <tr>\n",
       "      <th>4713</th>\n",
       "      <td>920</td>\n",
       "      <td>318</td>\n",
       "      <td>Schindler's List (1993)</td>\n",
       "      <td>01-Jan-1993</td>\n",
       "      <td>http://us.imdb.com/M/title-exact?Schindler's%2...</td>\n",
       "      <td>['Drama', 'War']</td>\n",
       "    </tr>\n",
       "    <tr>\n",
       "      <th>4714</th>\n",
       "      <td>941</td>\n",
       "      <td>318</td>\n",
       "      <td>Schindler's List (1993)</td>\n",
       "      <td>01-Jan-1993</td>\n",
       "      <td>http://us.imdb.com/M/title-exact?Schindler's%2...</td>\n",
       "      <td>['Drama', 'War']</td>\n",
       "    </tr>\n",
       "  </tbody>\n",
       "</table>\n",
       "<p>4715 rows × 6 columns</p>\n",
       "</div>"
      ],
      "text/plain": [
       "     user_id  movie_id                       title release_date  \\\n",
       "0        196      1449      Pather Panchali (1955)  22-Mar-1996   \n",
       "1        186       318     Schindler's List (1993)  01-Jan-1993   \n",
       "2         22       408       Close Shave, A (1995)  28-Apr-1996   \n",
       "3        244      1449      Pather Panchali (1955)  22-Mar-1996   \n",
       "4        166       169  Wrong Trousers, The (1993)  01-Jan-1993   \n",
       "...      ...       ...                         ...          ...   \n",
       "4710     939       318     Schindler's List (1993)  01-Jan-1993   \n",
       "4711     936       603          Rear Window (1954)  01-Jan-1954   \n",
       "4712     930       513       Third Man, The (1949)  01-Jan-1949   \n",
       "4713     920       318     Schindler's List (1993)  01-Jan-1993   \n",
       "4714     941       318     Schindler's List (1993)  01-Jan-1993   \n",
       "\n",
       "                                               IMDb URL  \\\n",
       "0     http://us.imdb.com/M/title-exact?Pather%20Panc...   \n",
       "1     http://us.imdb.com/M/title-exact?Schindler's%2...   \n",
       "2     http://us.imdb.com/M/title-exact?Close%20Shave...   \n",
       "3     http://us.imdb.com/M/title-exact?Pather%20Panc...   \n",
       "4     http://us.imdb.com/M/title-exact?Wrong%20Trous...   \n",
       "...                                                 ...   \n",
       "4710  http://us.imdb.com/M/title-exact?Schindler's%2...   \n",
       "4711  http://us.imdb.com/M/title-exact?Rear%20Window...   \n",
       "4712  http://us.imdb.com/M/title-exact?Third%20Man,%...   \n",
       "4713  http://us.imdb.com/M/title-exact?Schindler's%2...   \n",
       "4714  http://us.imdb.com/M/title-exact?Schindler's%2...   \n",
       "\n",
       "                                    genre  \n",
       "0                               ['Drama']  \n",
       "1                        ['Drama', 'War']  \n",
       "2     ['Animation', 'Comedy', 'Thriller']  \n",
       "3                               ['Drama']  \n",
       "4                 ['Animation', 'Comedy']  \n",
       "...                                   ...  \n",
       "4710                     ['Drama', 'War']  \n",
       "4711              ['Mystery', 'Thriller']  \n",
       "4712              ['Mystery', 'Thriller']  \n",
       "4713                     ['Drama', 'War']  \n",
       "4714                     ['Drama', 'War']  \n",
       "\n",
       "[4715 rows x 6 columns]"
      ]
     },
     "execution_count": 42,
     "metadata": {},
     "output_type": "execute_result"
    }
   ],
   "source": [
    "recommendations = pd.DataFrame.from_dict(get_n_predictions(5)).transpose()\n",
    "recommendations = recommendations.explode([0, 1, 2, 3, 4])\n",
    "recommendations = recommendations.iloc[::2, :].reset_index()\n",
    "recommendations = pd.melt(recommendations, id_vars=['index'], var_name='col', value_name='movie_id')\n",
    "recommendations.drop('col', inplace=True, axis=1)\n",
    "recommendations.movie_id = recommendations.movie_id.astype('int64')\n",
    "recommendations = recommendations.join(df_movies.set_index('movie_id'), on='movie_id')\n",
    "recommendations.rename(columns={'index': 'user_id'}, inplace=True)\n",
    "\n",
    "recommendations\n"
   ]
  },
  {
   "cell_type": "code",
   "execution_count": null,
   "id": "96fa24d3",
   "metadata": {},
   "outputs": [],
   "source": [
    "recommendations.to_csv(path+'')"
   ]
  }
 ],
 "metadata": {
  "kernelspec": {
   "display_name": "Python 3 (ipykernel)",
   "language": "python",
   "name": "python3"
  },
  "language_info": {
   "codemirror_mode": {
    "name": "ipython",
    "version": 3
   },
   "file_extension": ".py",
   "mimetype": "text/x-python",
   "name": "python",
   "nbconvert_exporter": "python",
   "pygments_lexer": "ipython3",
   "version": "3.9.12"
  }
 },
 "nbformat": 4,
 "nbformat_minor": 5
}
